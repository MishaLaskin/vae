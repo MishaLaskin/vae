{
 "cells": [
  {
   "cell_type": "code",
   "execution_count": 222,
   "metadata": {},
   "outputs": [
    {
     "name": "stdout",
     "output_type": "stream",
     "text": [
      "The autoreload extension is already loaded. To reload it, use:\n",
      "  %reload_ext autoreload\n"
     ]
    }
   ],
   "source": [
    "import torch\n",
    "import torch.nn as nn\n",
    "import torch.nn.functional as F\n",
    "from torch.autograd import Variable\n",
    "\n",
    "import torchvision\n",
    "from torchvision import datasets\n",
    "from torchvision import transforms\n",
    "from torchvision.utils import save_image\n",
    "from torchsummary import summary\n",
    "\n",
    "from pushover import notify\n",
    "from utils import makegif\n",
    "from random import randint\n",
    "\n",
    "from IPython.display import Image\n",
    "from IPython.core.display import Image, display\n",
    "\n",
    "%load_ext autoreload\n",
    "%autoreload 2"
   ]
  },
  {
   "cell_type": "code",
   "execution_count": 223,
   "metadata": {},
   "outputs": [
    {
     "data": {
      "text/plain": [
       "device(type='cuda')"
      ]
     },
     "execution_count": 223,
     "metadata": {},
     "output_type": "execute_result"
    }
   ],
   "source": [
    "# Device configuration\n",
    "device = torch.device('cuda' if torch.cuda.is_available() else 'cpu')\n",
    "device"
   ]
  },
  {
   "cell_type": "code",
   "execution_count": 224,
   "metadata": {},
   "outputs": [],
   "source": [
    "bs = 32"
   ]
  },
  {
   "cell_type": "code",
   "execution_count": 225,
   "metadata": {},
   "outputs": [
    {
     "data": {
      "text/plain": [
       "(3000, 94)"
      ]
     },
     "execution_count": 225,
     "metadata": {},
     "output_type": "execute_result"
    }
   ],
   "source": [
    "# Load Data\n",
    "dataset = datasets.ImageFolder(root='./rollouts', transform=transforms.Compose([\n",
    "    transforms.Resize(64),\n",
    "    transforms.ToTensor(), \n",
    "]))\n",
    "dataloader = torch.utils.data.DataLoader(dataset, batch_size=bs, shuffle=True)\n",
    "len(dataset.imgs), len(dataloader)"
   ]
  },
  {
   "cell_type": "code",
   "execution_count": 226,
   "metadata": {},
   "outputs": [],
   "source": [
    "import cv2\n",
    "import numpy as np\n",
    "from torch.utils.data import Dataset\n",
    "import torch\n",
    "\n",
    "\n",
    "class ImageDataset(Dataset):\n",
    "    \"\"\"\n",
    "    Creates image dataset of 32X32 images with 3 channels\n",
    "    requires numpy and cv2 to work\n",
    "    \"\"\"\n",
    "\n",
    "    def __init__(self, file_path, train=True, transform=None):\n",
    "        print('Loading data')\n",
    "        data = np.load(file_path, allow_pickle=True)\n",
    "        print('Done loading data')\n",
    "        data = np.array(data.item().get('image_observation'))\n",
    "\n",
    "        self.n = data.shape[0]\n",
    "        self.data = data\n",
    "        self.transform = transform\n",
    "\n",
    "    def __getitem__(self, index):\n",
    "        img = self.data[index]\n",
    "\n",
    "        if self.transform is not None:\n",
    "            img = self.transform(img)\n",
    "\n",
    "        label = 0\n",
    "        return img, label\n",
    "\n",
    "    def __len__(self):\n",
    "        return len(self.data)\n"
   ]
  },
  {
   "cell_type": "code",
   "execution_count": 228,
   "metadata": {},
   "outputs": [
    {
     "name": "stdout",
     "output_type": "stream",
     "text": [
      "Loading data\n",
      "Done loading data\n"
     ]
    },
    {
     "data": {
      "text/plain": [
       "(200000, 6250)"
      ]
     },
     "execution_count": 228,
     "metadata": {},
     "output_type": "execute_result"
    }
   ],
   "source": [
    "\n",
    "data_file_path = '/home/misha/research/vqvae/data/reacher_no_target_length100_paths_2000.npy'\n",
    "#data_file_path = '/home/misha/research/vqvae/data/two_blocks_length100_paths_100.npy'\n",
    "#data_file_path = '/home/misha/research/vqvae/data/just_place_length100_paths_50.npy'\n",
    "\n",
    "#training_data, validation_data, training_loader, validation_loader, x_train_var = utils.load_data_and_data_loaders('POINTMASS',data_file_path, 32)\n",
    "\n",
    "dataset = ImageDataset(data_file_path, train=True,\n",
    "                             transform=transforms.Compose([\n",
    "                                transforms.ToTensor(), \n",
    "                             ]))\n",
    "dataloader = torch.utils.data.DataLoader(dataset, batch_size=bs, shuffle=True)\n",
    "len(dataset), len(dataloader)"
   ]
  },
  {
   "cell_type": "code",
   "execution_count": 245,
   "metadata": {},
   "outputs": [
    {
     "data": {
      "image/png": "[encoded data removed]",
      "text/plain": [
       "<IPython.core.display.Image object>"
      ]
     },
     "execution_count": 245,
     "metadata": {},
     "output_type": "execute_result"
    }
   ],
   "source": [
    "# Fixed input for debugging\n",
    "fixed_x, _ = next(iter(dataloader))\n",
    "save_image(fixed_x, 'real_image.png')\n",
    "\n",
    "Image('real_image.png')\n"
   ]
  },
  {
   "cell_type": "code",
   "execution_count": 246,
   "metadata": {},
   "outputs": [],
   "source": [
    "class Flatten(nn.Module):\n",
    "    def forward(self, input):\n",
    "        return input.view(input.size(0), -1)"
   ]
  },
  {
   "cell_type": "code",
   "execution_count": 247,
   "metadata": {},
   "outputs": [],
   "source": [
    "class UnFlatten(nn.Module):\n",
    "    def forward(self, input, size=1024):\n",
    "        return input.view(input.size(0), size, 1, 1)"
   ]
  },
  {
   "cell_type": "code",
   "execution_count": 249,
   "metadata": {},
   "outputs": [],
   "source": [
    "class VAE(nn.Module):\n",
    "    def __init__(self, img_dim=32,image_channels=3, h_dim=1024, z_dim=32,device=None):\n",
    "        super(VAE, self).__init__()\n",
    "        \n",
    "        assert img_dim == 32 or img_dim == 64, 'img_dim must be 32 or 64'\n",
    "        if img_dim == 32:\n",
    "            self.encoder = nn.Sequential(\n",
    "                nn.Conv2d(image_channels, 32, kernel_size=4, stride=2),\n",
    "                nn.ReLU(),\n",
    "                nn.Conv2d(32, 64, kernel_size=4, stride=2),\n",
    "                nn.ReLU(),\n",
    "                nn.Conv2d(64, 256, kernel_size=4, stride=2),\n",
    "                nn.ReLU(),\n",
    "                Flatten()\n",
    "            ).to(device)\n",
    "            \n",
    "            self.decoder = nn.Sequential(\n",
    "                UnFlatten(),\n",
    "                nn.ConvTranspose2d(h_dim, 128, kernel_size=5, stride=2),\n",
    "                nn.ReLU(),\n",
    "                nn.ConvTranspose2d(128, 32, kernel_size=6, stride=2),\n",
    "                nn.ReLU(),\n",
    "                nn.ConvTranspose2d(32, image_channels, kernel_size=6, stride=2),\n",
    "                nn.Sigmoid(),\n",
    "            ).to(device)\n",
    "        \n",
    "        if img_dim == 64:\n",
    "            self.encoder = nn.Sequential(\n",
    "                nn.Conv2d(image_channels, 32, kernel_size=4, stride=2),\n",
    "                nn.ReLU(),\n",
    "                nn.Conv2d(32, 64, kernel_size=4, stride=2),\n",
    "                nn.ReLU(),\n",
    "                nn.Conv2d(64, 128, kernel_size=4, stride=2),\n",
    "                nn.ReLU(),\n",
    "                nn.Conv2d(128, 256, kernel_size=4, stride=2),\n",
    "                nn.ReLU(),\n",
    "                Flatten()\n",
    "            ).to(device)\n",
    "            \n",
    "            self.decoder = nn.Sequential(\n",
    "                UnFlatten(),\n",
    "                nn.ConvTranspose2d(h_dim, 128, kernel_size=5, stride=2),\n",
    "                nn.ReLU(),\n",
    "                nn.ConvTranspose2d(128, 64, kernel_size=5, stride=2),\n",
    "                nn.ReLU(),\n",
    "                nn.ConvTranspose2d(64, 32, kernel_size=6, stride=2),\n",
    "                nn.ReLU(),\n",
    "                nn.ConvTranspose2d(32, image_channels, kernel_size=6, stride=2),\n",
    "                nn.Sigmoid(),\n",
    "            ).to(device)\n",
    "        \n",
    "        \n",
    "        \n",
    "        self.fc1 = nn.Linear(h_dim, z_dim)\n",
    "        self.fc2 = nn.Linear(h_dim, z_dim)\n",
    "        self.fc3 = nn.Linear(z_dim, h_dim)\n",
    "        \n",
    "        \n",
    "        self.device =device\n",
    "        \n",
    "    def reparameterize(self, mu, logvar):\n",
    "        std = logvar.mul(0.5).exp_()\n",
    "        # return torch.normal(mu, std)\n",
    "        esp = torch.randn(*mu.size()).to(self.device)        \n",
    "        z = mu + std * esp\n",
    "        return z\n",
    "    \n",
    "    def bottleneck(self, h):\n",
    "        mu, logvar = self.fc1(h), self.fc2(h)\n",
    "        \n",
    "        z = self.reparameterize(mu, logvar)\n",
    "        return z, mu, logvar\n",
    "\n",
    "    def encode(self, x):\n",
    "        h = self.encoder(x)\n",
    "        z, mu, logvar = self.bottleneck(h)\n",
    "        return z, mu, logvar\n",
    "\n",
    "    def decode(self, z):\n",
    "        z = self.fc3(z)\n",
    "        z = self.decoder(z)\n",
    "        return z\n",
    "\n",
    "    def forward(self, x):\n",
    "        z, mu, logvar = self.encode(x)\n",
    "        z = self.decode(z)\n",
    "        return z, mu, logvar"
   ]
  },
  {
   "cell_type": "code",
   "execution_count": 250,
   "metadata": {},
   "outputs": [],
   "source": [
    "image_channels = fixed_x.size(1)\n",
    "img_dim = fixed_x.size(-1)"
   ]
  },
  {
   "cell_type": "code",
   "execution_count": 251,
   "metadata": {},
   "outputs": [],
   "source": [
    "model = VAE(img_dim=img_dim,image_channels=image_channels,device=device).to(device)\n",
    "#model.load_state_dict(torch.load('vae.torch', map_location='cpu'))"
   ]
  },
  {
   "cell_type": "code",
   "execution_count": 252,
   "metadata": {},
   "outputs": [],
   "source": [
    "optimizer = torch.optim.Adam(model.parameters(), lr=1e-3) "
   ]
  },
  {
   "cell_type": "code",
   "execution_count": 253,
   "metadata": {},
   "outputs": [],
   "source": [
    "def loss_fn(recon_x, x, mu, logvar):\n",
    "    x = x.to(device)\n",
    "    BCE = F.binary_cross_entropy(recon_x, x, size_average=False)\n",
    "    # BCE = F.mse_loss(recon_x, x, size_average=False)\n",
    "\n",
    "    # see Appendix B from VAE paper:\n",
    "    # Kingma and Welling. Auto-Encoding Variational Bayes. ICLR, 2014\n",
    "    # 0.5 * sum(1 + log(sigma^2) - mu^2 - sigma^2)\n",
    "    KLD = -0.5 * torch.mean(1 + logvar - mu.pow(2) - logvar.exp())\n",
    "\n",
    "    return BCE + KLD, BCE, KLD"
   ]
  },
  {
   "cell_type": "code",
   "execution_count": 254,
   "metadata": {},
   "outputs": [],
   "source": [
    "!rm -rfr reconstructed\n",
    "!mkdir reconstructed"
   ]
  },
  {
   "cell_type": "code",
   "execution_count": 261,
   "metadata": {},
   "outputs": [],
   "source": [
    "epochs = 100"
   ]
  },
  {
   "cell_type": "code",
   "execution_count": 260,
   "metadata": {},
   "outputs": [
    {
     "name": "stdout",
     "output_type": "stream",
     "text": [
      "Epoch[1/25] Loss: 1875.991 1875.876 0.115\n",
      "Epoch[2/25] Loss: 1876.194 1876.080 0.114\n",
      "Epoch[3/25] Loss: 1876.226 1876.116 0.110\n",
      "Epoch[4/25] Loss: 1876.284 1876.170 0.113\n",
      "Epoch[5/25] Loss: 1875.243 1875.130 0.112\n",
      "Epoch[6/25] Loss: 1875.658 1875.546 0.112\n",
      "Epoch[7/25] Loss: 1876.222 1876.112 0.111\n",
      "Epoch[8/25] Loss: 1875.482 1875.368 0.114\n",
      "Epoch[9/25] Loss: 1875.781 1875.669 0.112\n",
      "Epoch[10/25] Loss: 1875.061 1874.948 0.114\n",
      "Epoch[11/25] Loss: 1875.388 1875.275 0.113\n",
      "Epoch[12/25] Loss: 1875.697 1875.580 0.118\n",
      "Epoch[13/25] Loss: 1875.207 1875.091 0.116\n",
      "Epoch[14/25] Loss: 1875.480 1875.366 0.113\n",
      "Epoch[15/25] Loss: 1875.464 1875.352 0.113\n",
      "Epoch[16/25] Loss: 1875.025 1874.917 0.109\n",
      "Epoch[17/25] Loss: 1876.064 1875.952 0.112\n",
      "Epoch[18/25] Loss: 1874.415 1874.299 0.116\n",
      "Epoch[19/25] Loss: 1874.819 1874.704 0.115\n",
      "Epoch[20/25] Loss: 1875.316 1875.201 0.114\n",
      "Epoch[21/25] Loss: 1875.096 1874.983 0.112\n",
      "Epoch[22/25] Loss: 1875.273 1875.160 0.113\n",
      "Epoch[23/25] Loss: 1874.991 1874.875 0.116\n",
      "Epoch[24/25] Loss: 1874.907 1874.795 0.112\n",
      "Epoch[25/25] Loss: 1875.688 1875.575 0.113\n"
     ]
    }
   ],
   "source": [
    "filename = 'reacher_vae.pth'\n",
    "epoch = 0\n",
    "while epoch < epochs:\n",
    "    \n",
    "    for idx, (images, _) in enumerate(dataloader):\n",
    "        recon_images, mu, logvar = model(images.to(device))\n",
    "        loss, bce, kld = loss_fn(recon_images, images, mu, logvar)\n",
    "        optimizer.zero_grad()\n",
    "        loss.backward()\n",
    "        optimizer.step()\n",
    "        to_print = \"Epoch[{}/{}] Loss: {:.3f} {:.3f} {:.3f}\".format(epoch+1, \n",
    "                                epochs, loss.item()/bs, bce.item()/bs, kld.item()/bs)\n",
    "        if idx % 100 == 0 and idx >0:\n",
    "            epoch+=1\n",
    "            print(to_print)\n",
    "            break\n",
    "\n",
    "# notify to android when finished training\n",
    "#notify(to_print, priority=1)\n",
    "\n",
    "torch.save(model.state_dict(), filename)"
   ]
  },
  {
   "cell_type": "code",
   "execution_count": 262,
   "metadata": {},
   "outputs": [],
   "source": [
    "def compare(x):\n",
    "    x=x.to(device)\n",
    "    recon_x, _, _ = model(x)\n",
    "    return torch.cat([x, recon_x])"
   ]
  },
  {
   "cell_type": "code",
   "execution_count": 263,
   "metadata": {},
   "outputs": [
    {
     "data": {
      "image/png": "[encoded data removed]",
      "text/plain": [
       "<IPython.core.display.Image object>"
      ]
     },
     "metadata": {
      "image/png": {
       "unconfined": true,
       "width": 700
      }
     },
     "output_type": "display_data"
    }
   ],
   "source": [
    "# sample = torch.randn(bs, 1024)\n",
    "# compare_x = vae.decoder(sample)\n",
    "\n",
    "# fixed_x, _ = next(iter(dataloader))\n",
    "# fixed_x = fixed_x[:8]\n",
    "fixed_x = dataset[randint(1, 100)][0].unsqueeze(0)\n",
    "compare_x = compare(fixed_x)\n",
    "\n",
    "save_image(compare_x.data.cpu(), 'sample_image.png')\n",
    "display(Image('sample_image.png', width=700, unconfined=True))"
   ]
  },
  {
   "cell_type": "code",
   "execution_count": 197,
   "metadata": {},
   "outputs": [
    {
     "data": {
      "text/plain": [
       "torch.Size([1, 3, 32, 32])"
      ]
     },
     "execution_count": 197,
     "metadata": {},
     "output_type": "execute_result"
    }
   ],
   "source": [
    "fixed_x.shape"
   ]
  },
  {
   "cell_type": "code",
   "execution_count": null,
   "metadata": {},
   "outputs": [],
   "source": []
  }
 ],
 "metadata": {
  "kernelspec": {
   "display_name": "Python 3",
   "language": "python",
   "name": "python3"
  },
  "language_info": {
   "codemirror_mode": {
    "name": "ipython",
    "version": 3
   },
   "file_extension": ".py",
   "mimetype": "text/x-python",
   "name": "python",
   "nbconvert_exporter": "python",
   "pygments_lexer": "ipython3",
   "version": "3.6.9"
  }
 },
 "nbformat": 4,
 "nbformat_minor": 2
}
